{
 "cells": [
  {
   "cell_type": "markdown",
   "id": "c377e832",
   "metadata": {},
   "source": [
    "# Paso 4 · Orquestación completa con LangChain\n",
    "Pipeline: **Load → Tokenize (preview) → Embed/Store → Retrieve** en una sola llamada."
   ]
  },
  {
   "cell_type": "code",
   "execution_count": null,
   "id": "1e0438a8",
   "metadata": {},
   "outputs": [],
   "source": [
    "\n",
    "# !pip install -r ../requirements.txt\n",
    "from src.langchain_pipeline import run_pipeline\n",
    "\n",
    "out = run_pipeline(query=\"Últimas noticias de economía\", limit=50)\n",
    "out[\"tokenization\"]\n"
   ]
  },
  {
   "cell_type": "code",
   "execution_count": null,
   "id": "5445a7f8",
   "metadata": {},
   "outputs": [],
   "source": [
    "\n",
    "# Resultados de la consulta (DataFrame con columnas pedidas)\n",
    "df = out[\"results\"]\n",
    "df\n"
   ]
  }
 ],
 "metadata": {
  "kernelspec": {
   "display_name": "Python 3",
   "language": "python",
   "name": "python3"
  },
  "language_info": {
   "name": "python",
   "version": "3.10"
  }
 },
 "nbformat": 4,
 "nbformat_minor": 5
}
