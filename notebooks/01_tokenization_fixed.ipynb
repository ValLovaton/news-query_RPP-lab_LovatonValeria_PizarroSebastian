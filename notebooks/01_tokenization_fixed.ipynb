{
 "cells": [
  {
   "cell_type": "markdown",
   "id": "b33357b3",
   "metadata": {},
   "source": [
    "# Paso 2 · Tokenización con tiktoken\n",
    "Contar tokens de una noticia (title + description) y decidir si requiere chunking."
   ]
  },
  {
   "cell_type": "code",
   "execution_count": null,
   "id": "8d235fd4",
   "metadata": {},
   "outputs": [],
   "source": [
    "\n",
    "# !pip install -r ../requirements.txt\n",
    "from src.rss_loader import load_rpp_rss\n",
    "from src.tokenization import build_article_text, count_tokens, should_chunk\n",
    "\n",
    "# 1) Cargar 50 items\n",
    "items = load_rpp_rss(limit=50)\n",
    "assert len(items) > 0, \"No se cargaron items del RSS\"\n",
    "\n",
    "# 2) Tomar el primero y construir el texto\n",
    "sample_text = build_article_text(items[0])\n",
    "sample_text[:300]  # vista previa\n"
   ]
  },
  {
   "cell_type": "code",
   "execution_count": null,
   "id": "c29bb57d",
   "metadata": {},
   "outputs": [],
   "source": [
    "\n",
    "# 3) Contar tokens y decidir chunking\n",
    "n_tokens = count_tokens(sample_text, model_name=\"gpt-3.5-turbo\")\n",
    "need_chunk = should_chunk(n_tokens, context_limit=4096, safety_margin=512)\n",
    "print({\"tokens\": n_tokens, \"need_chunk\": need_chunk})\n"
   ]
  },
  {
   "cell_type": "code",
   "execution_count": null,
   "id": "73fd8a65",
   "metadata": {},
   "outputs": [],
   "source": [
    "\n",
    "# 4) Conteo de tokens para las primeras 10 noticias\n",
    "import pandas as pd\n",
    "\n",
    "rows = []\n",
    "for i, it in enumerate(items[:10]):\n",
    "    txt = build_article_text(it)\n",
    "    nt = count_tokens(txt, model_name=\"gpt-3.5-turbo\")\n",
    "    rows.append({\n",
    "        \"idx\": i,\n",
    "        \"title\": it[\"title\"][:80],\n",
    "        \"tokens\": nt,\n",
    "        \"need_chunk\": should_chunk(nt, context_limit=4096, safety_margin=512)\n",
    "    })\n",
    "\n",
    "pd.DataFrame(rows)\n"
   ]
  }
 ],
 "metadata": {
  "kernelspec": {
   "display_name": "Python 3",
   "language": "python",
   "name": "python3"
  },
  "language_info": {
   "name": "python",
   "version": "3.10"
  }
 },
 "nbformat": 4,
 "nbformat_minor": 5
}
