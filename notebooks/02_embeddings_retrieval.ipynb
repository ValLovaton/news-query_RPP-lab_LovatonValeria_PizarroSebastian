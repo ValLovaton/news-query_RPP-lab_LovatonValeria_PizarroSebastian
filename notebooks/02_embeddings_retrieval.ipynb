{
 "cells": [
  {
   "cell_type": "markdown",
   "id": "d618d1e0",
   "metadata": {},
   "source": [
    "# Paso 3 · Embeddings + ChromaDB + Retriever (LangChain)\n",
    "Genera embeddings con `all-MiniLM-L6-v2`, almacena en Chroma y consulta en lenguaje natural."
   ]
  },
  {
   "cell_type": "code",
   "execution_count": null,
   "id": "ac99a051",
   "metadata": {},
   "outputs": [],
   "source": [
    "\n",
    "# !pip install -r ../requirements.txt\n",
    "from src.rss_loader import load_rpp_rss\n",
    "from src.embeddings_store import to_documents, upsert_chroma, build_retriever, query_retriever, results_to_df\n",
    "\n",
    "# 1) Cargar RSS (50 items)\n",
    "items = load_rpp_rss(limit=50)\n",
    "len(items)\n"
   ]
  },
  {
   "cell_type": "code",
   "execution_count": null,
   "id": "40005f10",
   "metadata": {},
   "outputs": [],
   "source": [
    "\n",
    "# 2) Convertir a documentos y crear/actualizar Chroma\n",
    "docs = to_documents(items)\n",
    "vs = upsert_chroma(docs, persist_dir=\".chroma\", collection_name=\"rpp_news\")\n",
    "retriever = build_retriever(vs, k=8)\n",
    "retriever\n"
   ]
  },
  {
   "cell_type": "code",
   "execution_count": null,
   "id": "5cb6aab1",
   "metadata": {},
   "outputs": [],
   "source": [
    "\n",
    "# 3) Consulta de ejemplo\n",
    "query = \"Últimas noticias de economía\"\n",
    "results = query_retriever(retriever, query)\n",
    "df = results_to_df(results)\n",
    "df\n"
   ]
  }
 ],
 "metadata": {
  "kernelspec": {
   "display_name": "Python 3",
   "language": "python",
   "name": "python3"
  },
  "language_info": {
   "name": "python",
   "version": "3.10"
  }
 },
 "nbformat": 4,
 "nbformat_minor": 5
}
