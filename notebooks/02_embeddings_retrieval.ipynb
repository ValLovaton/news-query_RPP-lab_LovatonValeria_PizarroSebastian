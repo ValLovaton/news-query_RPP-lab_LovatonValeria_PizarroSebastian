{
 "cells": [
  {
   "cell_type": "markdown",
   "metadata": {},
   "source": [
    "# 02_embeddings_retrieval.ipynb\n",
    "Este notebook genera embeddings de las 50 noticias obtenidas del feed RSS de RPP Perú y las almacena en ChromaDB. Luego, ejecuta una búsqueda semántica de ejemplo usando LangChain."
   ]
  },
  {
   "cell_type": "code",
   "execution_count": null,
   "metadata": {},
   "outputs": [],
   "source": [
    "import os, sys\n",
    "!pip install -q -r requirements.txt\n",
    "sys.path.append(os.path.abspath('.'))\n",
    "\n",
    "from src.rss_loader import load_rpp_rss\n",
    "from src.embeddings_store import embed_texts, get_chroma_collection, upsert_news\n",
    "from src.retriever import query_similar\n",
    "import pandas as pd\n",
    "\n",
    "print(' Librerías cargadas correctamente')"
   ]
  },
  {
   "cell_type": "code",
   "execution_count": null,
   "metadata": {},
   "outputs": [],
   "source": [
    "# Cargar las últimas 50 noticias desde RPP\n",
    "items = load_rpp_rss(limit=50, export_path='data/processed/rpp_latest.json')\n",
    "print(f'Noticias descargadas: {len(items)}')\n",
    "pd.DataFrame(items).head(3)"
   ]
  },
  {
   "cell_type": "code",
   "execution_count": null,
   "metadata": {},
   "outputs": [],
   "source": [
    "# 2️Generar embeddings y guardarlos en Chroma\n",
    "texts = [f\"{it['title']} {it['description']}\" for it in items]\n",
    "embeddings = embed_texts(texts)\n",
    "collection = get_chroma_collection()\n",
    "upsert_news(collection, items, embeddings)\n",
    "print('Embeddings generados y almacenados en ChromaDB')"
   ]
  },
  {
   "cell_type": "code",
   "execution_count": null,
   "metadata": {},
   "outputs": [],
   "source": [
    "# 3️Consulta semántica de ejemplo\n",
    "query = 'Últimas noticias de economía'\n",
    "df = query_similar(collection, query, top_k=5)\n",
    "df.head()"
   ]
  }
 ],
 "metadata": {
  "kernelspec": {
   "display_name": "Python 3",
   "language": "python",
   "name": "python3"
  },
  "language_info": {
   "name": "python",
   "version": "3.10"
  }
 },
 "nbformat": 4,
 "nbformat_minor": 5
}
