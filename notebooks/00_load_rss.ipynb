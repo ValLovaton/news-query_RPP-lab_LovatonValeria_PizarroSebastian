{
 "cells": [
  { "cell_type": "markdown", "metadata": {}, "source": ["# Paso 1 · Carga de RSS RPP (50 items)\nDemostración rápida del loader con feedparser."] },
  { "cell_type": "code", "metadata": {}, "source": [
    "# !pip install -r ../requirements.txt",
    "from src.rss_loader import load_rpp_rss",
    "import pandas as pd",
    "",
    "items = load_rpp_rss(limit=50)",
    "df = pd.DataFrame(items)",
    "df.head()"
  ]},
  { "cell_type": "code", "metadata": {}, "source": [
    "# Export opcional a JSON (para usar luego en el Bonus de Task 2)",
    "items = load_rpp_rss(limit=50, export_path=\"data/processed/rpp_latest.json\")",
    "len(items)"
  ]}
 ],
 "metadata": { "kernelspec": { "display_name": "Python 3", "language": "python", "name": "python3" }, "language_info": { "name": "python", "version": "3.10" }},
 "nbformat": 4, "nbformat_minor": 5
}
