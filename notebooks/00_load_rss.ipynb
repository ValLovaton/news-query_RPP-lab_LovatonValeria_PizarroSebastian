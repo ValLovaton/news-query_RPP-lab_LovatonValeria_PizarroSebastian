{
 "cells": [
  {
   "cell_type": "markdown",
   "metadata": {},
   "source": [
    "# Paso 1 · Cargar RSS de RPP y exportar JSON\n",
    "Extrae 50 noticias (title, description, link, date_published) y las guarda en `data/processed/rpp_latest.json`."
   ]
  },
  {
   "cell_type": "code",
   "execution_count": null,
   "metadata": {},
   "outputs": [],
   "source": [
    "# !pip -q install -r ../requirements.txt\n",
    "from src.rss_loader import load_rpp_rss\n",
    "items = load_rpp_rss(limit=50, export_path=\"data/processed/rpp_latest.json\")\n",
    "len(items)"
   ]
  },
  {
   "cell_type": "code",
   "execution_count": null,
   "metadata": {},
   "outputs": [],
   "source": [
    "import pandas as pd\n",
    "df = pd.DataFrame(items)[[\"title\",\"description\",\"link\",\"date_published\"]]\n",
    "df.head()"
   ]
  }
 ],
 "metadata": {
  "kernelspec": { "display_name": "Python 3", "language": "python", "name": "python3" },
  "language_info": { "name": "python", "version": "3.10" }
 },
 "nbformat": 4,
 "nbformat_minor": 5
}
